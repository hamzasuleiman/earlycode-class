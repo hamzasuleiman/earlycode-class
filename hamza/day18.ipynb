{
 "cells": [
  {
   "cell_type": "code",
   "execution_count": 1,
   "id": "790c2bc9",
   "metadata": {},
   "outputs": [],
   "source": [
    "import pymysql"
   ]
  },
  {
   "cell_type": "code",
   "execution_count": 2,
   "id": "b824279b",
   "metadata": {},
   "outputs": [
    {
     "name": "stdout",
     "output_type": "stream",
     "text": [
      "enter mysql host:localhost\n",
      "enter user name:root\n",
      "enter the port number:3360\n",
      "input the password:(Omattaiiii1111$)\n"
     ]
    },
    {
     "ename": "NameError",
     "evalue": "name 'Bank' is not defined",
     "output_type": "error",
     "traceback": [
      "\u001b[1;31m---------------------------------------------------------------------------\u001b[0m",
      "\u001b[1;31mNameError\u001b[0m                                 Traceback (most recent call last)",
      "Cell \u001b[1;32mIn[2], line 69\u001b[0m\n\u001b[0;32m     66\u001b[0m     program\u001b[38;5;241m.\u001b[39mclose\u001b[38;5;241m.\u001b[39mconn()\n\u001b[0;32m     67\u001b[0m \u001b[38;5;28;01mif\u001b[39;00m \u001b[38;5;18m__name__\u001b[39m \u001b[38;5;241m==\u001b[39m \u001b[38;5;124m\"\u001b[39m\u001b[38;5;124m__main__\u001b[39m\u001b[38;5;124m\"\u001b[39m:\n\u001b[1;32m---> 69\u001b[0m     main()\n",
      "Cell \u001b[1;32mIn[2], line 56\u001b[0m, in \u001b[0;36mmain\u001b[1;34m()\u001b[0m\n\u001b[0;32m     54\u001b[0m password\u001b[38;5;241m=\u001b[39m\u001b[38;5;28minput\u001b[39m(\u001b[38;5;124m\"\u001b[39m\u001b[38;5;124minput the password:\u001b[39m\u001b[38;5;124m\"\u001b[39m)\n\u001b[0;32m     55\u001b[0m database\u001b[38;5;241m=\u001b[39m\u001b[38;5;124m\"\u001b[39m\u001b[38;5;124mbank\u001b[39m\u001b[38;5;124m\"\u001b[39m\n\u001b[1;32m---> 56\u001b[0m program\u001b[38;5;241m=\u001b[39mBank(host,user,port,password,database)\n\u001b[0;32m     58\u001b[0m program\u001b[38;5;241m.\u001b[39madd_account(\u001b[38;5;124m\"\u001b[39m\u001b[38;5;124mjohn doe\u001b[39m\u001b[38;5;124m\"\u001b[39m,\u001b[38;5;241m1000.00\u001b[39m)\n\u001b[0;32m     59\u001b[0m program\u001b[38;5;241m.\u001b[39madd_account(\u001b[38;5;124m\"\u001b[39m\u001b[38;5;124mhamid\u001b[39m\u001b[38;5;124m\"\u001b[39m,\u001b[38;5;241m2000.00\u001b[39m)\n",
      "\u001b[1;31mNameError\u001b[0m: name 'Bank' is not defined"
     ]
    }
   ],
   "source": [
    "class bank:\n",
    "    def __init__(self,host,user,port,password,database):\n",
    "        self.conn = pymysql.connect(\n",
    "        host=host,\n",
    "        user=user,\n",
    "        port=port,\n",
    "        password=password,\n",
    "        database=database\n",
    "        )\n",
    "        self.cursor = self.conn.cursor()\n",
    "        self.create_table()\n",
    "    def create_table(self):\n",
    "        self.cursor.execute(\"\"\"\n",
    "        CREATE TABLE IN NOT EXIST ACCOUNTS(\n",
    "        ACCOUNT_ID IN AUTO_INCREAMENT PRIMARY KEY NOT NULL,\n",
    "        CUSTOMER_NAME VARCHAR(255) NOT NULL,\n",
    "        BALANCE FLOAT NOT NULL\n",
    "        )\n",
    "        \"\"\")\n",
    "        self.conn.commit()\n",
    "    def add_account(self,customer_name,balance):\n",
    "        self.cursor.execute(\"INSERT INTO ACCOUNTS (CUSTOMER_NAME,BALANCE) VALUE(%s,%s)\",(customer_name,balance))\n",
    "        self.conn.commit()\n",
    "        print(\"ADDED ACCOUNT SUCCESSFULLY\")\n",
    "    def search_account(self,keyword):\n",
    "        self.cursor.execute(\"SELECT * FROM ACCOUNTS WHERE COSTUMER_NAME LIKE %s\",(f\"%{keyword}%,\"))\n",
    "        result=self.cursor.fetchall()\n",
    "        if not result:\n",
    "            print(\"no account found\")\n",
    "        else:\n",
    "            print(\"matching account found\")\n",
    "            for row in result:\n",
    "                print(row)\n",
    "    def list_all_accounts(self):\n",
    "        self.cursor.execute(\"SELECT * FROM ACCOUNT\")\n",
    "        result = self.cursor.fetchall()\n",
    "        if not result:\n",
    "            print(\"no account found\")\n",
    "        else:\n",
    "            print(\"all account\")\n",
    "            for row in result:\n",
    "                print(row)\n",
    "    def delete_account(self,account_id):\n",
    "        self.cursor.execute(\"DELETE FROM ACCOUNTS WHERE ACCOUNT_ID = %s\",(account_id,))\n",
    "        self.conn.commit()\n",
    "        print(f\"ACCOUNT DELETED {account_id} SUCCESSFULLY..\")\n",
    "    def close_conn(self):\n",
    "        self.cursor.close()\n",
    "        self.conn.close()\n",
    "def main():\n",
    "    host=input(\"enter mysql host:\")\n",
    "    user=input(\"enter user name:\")\n",
    "    port=int(input(\"enter the port number:\"))\n",
    "    password=input(\"input the password:\")\n",
    "    database=\"bank\"\n",
    "    program=Bank(host,user,port,password,database)\n",
    "    \n",
    "    program.add_account(\"john doe\",1000.00)\n",
    "    program.add_account(\"hamid\",2000.00)\n",
    "    program.add_account(\"sule john\",3000000.00)\n",
    "    program.search_account(\"john doe\")\n",
    "    program.list_all_accounts()\n",
    "    program.delete_account(2)\n",
    "\n",
    "\n",
    "    program.close.conn()\n",
    "if __name__ == \"__main__\":\n",
    "   \n",
    "    main()\n",
    "                            \n",
    "                                                                               "
   ]
  },
  {
   "cell_type": "code",
   "execution_count": null,
   "id": "de9b4c4b",
   "metadata": {},
   "outputs": [],
   "source": []
  }
 ],
 "metadata": {
  "kernelspec": {
   "display_name": "Python 3 (ipykernel)",
   "language": "python",
   "name": "python3"
  },
  "language_info": {
   "codemirror_mode": {
    "name": "ipython",
    "version": 3
   },
   "file_extension": ".py",
   "mimetype": "text/x-python",
   "name": "python",
   "nbconvert_exporter": "python",
   "pygments_lexer": "ipython3",
   "version": "3.11.5"
  },
  "widgets": {
   "application/vnd.jupyter.widget-state+json": {
    "state": {},
    "version_major": 2,
    "version_minor": 0
   }
  }
 },
 "nbformat": 4,
 "nbformat_minor": 5
}
